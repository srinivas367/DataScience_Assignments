{
 "cells": [
  {
   "cell_type": "markdown",
   "id": "ad0102cf",
   "metadata": {},
   "source": [
    "1. Declare two variables, `x` and `y`, and assign them integer values. Swap the\n",
    "values of these variables without using any temporary variable.\n",
    "2. Create a program that calculates the area of a rectangle. Take the length and\n",
    "width as inputs from the user and store them in variables. Calculate and\n",
    "display the area.\n",
    "3. Write a Python program that converts temperatures from Celsius to\n",
    "Fahrenheit. Take the temperature in Celsius as input, store it in a variable,\n",
    "convert it to Fahrenheit, and display the result."
   ]
  },
  {
   "cell_type": "code",
   "execution_count": 34,
   "id": "9a74bfe0",
   "metadata": {},
   "outputs": [
    {
     "name": "stdout",
     "output_type": "stream",
     "text": [
      "after swapping x is 20, y is 10\n"
     ]
    }
   ],
   "source": [
    "'''\n",
    "prob: Declare two variables, x and y, and assign them integer values. Swap the values of these variables without using any temporary variable.\n",
    "Sol: we can add the two, substract y and assign it to y, substract the newly updated value of y from total then we will get x \n",
    "'''\n",
    "x = 10\n",
    "y = 20\n",
    "x = x + y; # we will have x = 30\n",
    "y = x - y; # y will be 10 -> 30-20\n",
    "x = x - y; # x will be 20 -> 30-10\n",
    "print(f'after swapping x is {x}, y is {y}')"
   ]
  },
  {
   "cell_type": "code",
   "execution_count": 36,
   "id": "f0338b2b",
   "metadata": {},
   "outputs": [
    {
     "name": "stdout",
     "output_type": "stream",
     "text": [
      "10\n",
      "10\n",
      "Area of a rectangle is 100.0\n"
     ]
    }
   ],
   "source": [
    "'''\n",
    "prob: Create a program that calculates the area of a rectangle. Take the length and width as inputs from the user and store them in variables. Calculate and display the area\n",
    "Sol : Formulae for the Rectangle is length * width\n",
    "'''\n",
    "length =  float(input())\n",
    "width =  float(input())\n",
    "print(f'Area of a rectangle is {length * width}')"
   ]
  },
  {
   "cell_type": "code",
   "execution_count": 37,
   "id": "b23c510a",
   "metadata": {},
   "outputs": [
    {
     "name": "stdout",
     "output_type": "stream",
     "text": [
      "37\n",
      "Temperature is 98.6F\n"
     ]
    }
   ],
   "source": [
    "'''\n",
    "prob: Write a Python program that converts temperatures from Celsius to Fahrenheit. Take the temperature in Celsius as input, store it in a variable, convert it to Fahrenheit, and display the result.\n",
    "Sol: Formulae for converting Celsius to Fahrenheit is cels*(9/5)+32, i'm rounding it to 2 decimals for the reading comfort\n",
    "'''\n",
    "cels = float(input())\n",
    "fahrenheit  = round(cels*(9/5)+32, 2)\n",
    "print(f'Temperature is {fahrenheit}F')"
   ]
  },
  {
   "cell_type": "code",
   "execution_count": null,
   "id": "b28cbd7a",
   "metadata": {},
   "outputs": [],
   "source": []
  },
  {
   "cell_type": "markdown",
   "id": "ee606366",
   "metadata": {},
   "source": [
    "String Based Questions\n",
    "1. Write a Python program that takes a string as input and prints the length of the string.\n",
    "2. Create a program that takes a sentence from the user and counts the number of vowels (a, e, i, o, u) in the string.\n",
    "3. Given a string, reverse the order of characters using string slicing and print the reversed string.\n",
    "4. Write a program that takes a string as input and checks if it is a palindrome (reads the same forwards and backwards).\n",
    "5. Create a program that takes a string as input and removes all the spaces from it. Print the modified string without spaces."
   ]
  },
  {
   "cell_type": "code",
   "execution_count": 20,
   "id": "3a150d5e",
   "metadata": {},
   "outputs": [
    {
     "name": "stdout",
     "output_type": "stream",
     "text": [
      "PW Skills\n",
      "Length of the user name is  9\n"
     ]
    }
   ],
   "source": [
    "'''\n",
    "prob: Write a Python program that takes a string as input and prints the length of the string.\n",
    "Sol : by using len function we can find the length of a string\n",
    "'''\n",
    "user_name = input()\n",
    "#len is the function used to calculate the length of the string\n",
    "print(\"Length of the user name is \",len(user_name))"
   ]
  },
  {
   "cell_type": "code",
   "execution_count": 38,
   "id": "53f2669d",
   "metadata": {},
   "outputs": [
    {
     "name": "stdout",
     "output_type": "stream",
     "text": [
      "aeIOu0\n",
      "No of vowels in given Input are : 5\n"
     ]
    }
   ],
   "source": [
    "'''\n",
    "prob: Create a program that takes a sentence from the user and counts the number of vowels (a, e, i, o, u) in the string.\n",
    "Sol: iterate through the given string and find the particular character is available in vowels string with \n",
    "find method, it will give the positive number if it finds the letter if not it will give -1 (negative)\n",
    "'''\n",
    "sentence = input()\n",
    "vowels = \"AaEeIiOoUu\"\n",
    "noOfVowels = 0\n",
    "for x in sentence:\n",
    "    if(vowels.find(x) > 0):\n",
    "        noOfVowels +=1\n",
    "print(\"No of vowels in given Input are :\",noOfVowels)"
   ]
  },
  {
   "cell_type": "code",
   "execution_count": 39,
   "id": "ec0113d2",
   "metadata": {},
   "outputs": [
    {
     "name": "stdout",
     "output_type": "stream",
     "text": [
      "pw skills\n",
      "Reverse of a given string : slliks wp\n"
     ]
    }
   ],
   "source": [
    "'''\n",
    "prob : Given a string, reverse the order of characters using string slicing and print the reversed string\n",
    "sol: reverse the string using slicing\n",
    "'''\n",
    "g_String = input()\n",
    "r_string  = g_String[::-1]\n",
    "print(\"Reverse of a given string :\",r_string)"
   ]
  },
  {
   "cell_type": "code",
   "execution_count": 40,
   "id": "a6a104b6",
   "metadata": {},
   "outputs": [
    {
     "name": "stdout",
     "output_type": "stream",
     "text": [
      "abcba\n",
      "Given string is Palindrome\n"
     ]
    }
   ],
   "source": [
    "'''\n",
    "Prob. Write a program that takes a string as input and checks if it is a palindrome (reads the same forwards and backwards).\n",
    "Sol: will reverse the string and check whether both the strings are equal or not, is tey are equal they are palindrome.\n",
    "'''\n",
    "pal_string = input()\n",
    "r_pal_string = pal_string[::-1]\n",
    "if (pal_string == r_pal_string):\n",
    "    print(\"Given string is Palindrome\")\n",
    "else:\n",
    "    print(\"No a palindrome\")"
   ]
  },
  {
   "cell_type": "code",
   "execution_count": 46,
   "id": "9b8908af",
   "metadata": {},
   "outputs": [
    {
     "name": "stdout",
     "output_type": "stream",
     "text": [
      "   I'm from Hyderabad   .\n",
      "Entered Name without->I'm from Hyderabad   .<--\n",
      "Entered Name without spaces ->I'mfromHyderabad.<--\n"
     ]
    }
   ],
   "source": [
    "'''\n",
    "prob: Create a program that takes a string as input and removes all the spaces from it. Print the modified string without spaces.\n",
    "Sol: 1. for removing the space from begining and ending we will use strip function\n",
    "     2. In order remove all the spaces from the string we will use replace\n",
    "\n",
    "'''\n",
    "full_name = input()\n",
    "full_name_modified = full_name.strip()\n",
    "print(f\"Entered Name without->{full_name_modified}<--\")\n",
    "\n",
    "space_removed_string  = full_name.replace(\" \",\"\")\n",
    "print(f\"Entered Name without spaces ->{space_removed_string}<--\")"
   ]
  },
  {
   "cell_type": "code",
   "execution_count": null,
   "id": "8e4689ae",
   "metadata": {},
   "outputs": [],
   "source": []
  },
  {
   "cell_type": "code",
   "execution_count": null,
   "id": "d14ea3bd",
   "metadata": {},
   "outputs": [],
   "source": []
  }
 ],
 "metadata": {
  "kernelspec": {
   "display_name": "Python 3 (ipykernel)",
   "language": "python",
   "name": "python3"
  },
  "language_info": {
   "codemirror_mode": {
    "name": "ipython",
    "version": 3
   },
   "file_extension": ".py",
   "mimetype": "text/x-python",
   "name": "python",
   "nbconvert_exporter": "python",
   "pygments_lexer": "ipython3",
   "version": "3.9.12"
  }
 },
 "nbformat": 4,
 "nbformat_minor": 5
}
